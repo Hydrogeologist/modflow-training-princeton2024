{
 "cells": [
  {
   "cell_type": "markdown",
   "metadata": {},
   "source": [
    "# Split the watershed model"
   ]
  },
  {
   "cell_type": "code",
   "execution_count": 9,
   "metadata": {},
   "outputs": [],
   "source": [
    "import matplotlib.pyplot as plt\n",
    "import pathlib as pl\n",
    "import numpy as np\n",
    "import flopy\n",
    "from flopy.mf6.utils import Mf6Splitter\n",
    "\n",
    "from defaults import *"
   ]
  },
  {
   "cell_type": "code",
   "execution_count": 10,
   "metadata": {},
   "outputs": [],
   "source": [
    "base_dir = get_base_dir()\n",
    "parallel_dir = get_parallel_dir()"
   ]
  },
  {
   "cell_type": "markdown",
   "metadata": {},
   "source": [
    "### Load serial model"
   ]
  },
  {
   "cell_type": "code",
   "execution_count": 11,
   "metadata": {},
   "outputs": [
    {
     "name": "stdout",
     "output_type": "stream",
     "text": [
      "loading simulation...\n",
      "  loading simulation name file...\n",
      "  loading tdis package...\n",
      "  loading model gwf6...\n",
      "    loading package dis...\n",
      "    loading package ic...\n",
      "    loading package npf...\n",
      "    loading package rch...\n",
      "    loading package drn...\n",
      "    loading package drn...\n",
      "    loading package oc...\n",
      "  loading solution package model...\n"
     ]
    }
   ],
   "source": [
    "base_sim = flopy.mf6.MFSimulation.load(\n",
    "    sim_ws=base_dir,\n",
    ")\n",
    "gwf = base_sim.get_model()\n",
    "nrow = gwf.modelgrid.nrow\n",
    "ncol = gwf.modelgrid.ncol"
   ]
  },
  {
   "cell_type": "markdown",
   "metadata": {},
   "source": [
    "### Split into domains"
   ]
  },
  {
   "cell_type": "code",
   "execution_count": 12,
   "metadata": {},
   "outputs": [],
   "source": [
    "nr_domains = 8"
   ]
  },
  {
   "cell_type": "code",
   "execution_count": 13,
   "metadata": {},
   "outputs": [
    {
     "name": "stderr",
     "output_type": "stream",
     "text": [
      "/home/russcher/software/miniconda3/envs/modflow6/lib/python3.12/site-packages/IPython/core/pylabtools.py:77: DeprecationWarning: backend2gui is deprecated since IPython 8.24, backends are managed in matplotlib and can be externally registered.\n",
      "  warnings.warn(\n",
      "/home/russcher/software/miniconda3/envs/modflow6/lib/python3.12/site-packages/IPython/core/pylabtools.py:77: DeprecationWarning: backend2gui is deprecated since IPython 8.24, backends are managed in matplotlib and can be externally registered.\n",
      "  warnings.warn(\n",
      "/home/russcher/software/miniconda3/envs/modflow6/lib/python3.12/site-packages/IPython/core/pylabtools.py:77: DeprecationWarning: backend2gui is deprecated since IPython 8.24, backends are managed in matplotlib and can be externally registered.\n",
      "  warnings.warn(\n"
     ]
    },
    {
     "data": {
      "text/plain": [
       "<matplotlib.colorbar.Colorbar at 0x7fd6140a9940>"
      ]
     },
     "execution_count": 13,
     "metadata": {},
     "output_type": "execute_result"
    },
    {
     "data": {
      "image/png": "[encoded data removed]",
      "text/plain": [
       "<Figure size 640x480 with 2 Axes>"
      ]
     },
     "metadata": {},
     "output_type": "display_data"
    }
   ],
   "source": [
    "mfsplit = Mf6Splitter(base_sim)\n",
    "\n",
    "use_metis = True\n",
    "if use_metis:\n",
    " split_array = mfsplit.optimize_splitting_mask(nparts=nr_domains)\n",
    "else:\n",
    "  split_array = np.zeros((nrow, ncol), dtype=int)\n",
    "  for irow in range(nrow):\n",
    "    for icol in range(ncol):      \n",
    "      isub = np.floor(icol / (ncol / nr_domains))\n",
    "      split_array[irow, icol] = isub\n",
    "\n",
    "pmv = flopy.plot.PlotMapView(model=gwf, layer=0)\n",
    "pa = pmv.plot_array(split_array)\n",
    "pmv.plot_inactive(color_noflow=\"white\")\n",
    "plt.ylabel(\"row\")\n",
    "plt.xlabel(\"column\")\n",
    "plt.colorbar(pa, shrink=0.6)"
   ]
  },
  {
   "cell_type": "code",
   "execution_count": 14,
   "metadata": {},
   "outputs": [],
   "source": [
    "parallel_sim = mfsplit.split_model(split_array)\n",
    "models = [parallel_sim.get_model(mname) for mname in parallel_sim.model_names]"
   ]
  },
  {
   "cell_type": "code",
   "execution_count": 15,
   "metadata": {},
   "outputs": [],
   "source": [
    "partition_data = [[m.name, i] for i, m in enumerate(models)]\n",
    "hpc = flopy.mf6.ModflowUtlhpc(parallel_sim, partitions=partition_data)"
   ]
  },
  {
   "cell_type": "code",
   "execution_count": 16,
   "metadata": {},
   "outputs": [
    {
     "name": "stdout",
     "output_type": "stream",
     "text": [
      "writing simulation...\n",
      "  writing simulation name file...\n",
      "  writing simulation tdis package...\n",
      "  writing solution package ims_-1...\n",
      "  writing package sim_0_1.gwfgwf...\n",
      "  writing package sim_0_2.gwfgwf...\n",
      "  writing package sim_0_5.gwfgwf...\n",
      "  writing package sim_0_7.gwfgwf...\n",
      "  writing package sim_1_2.gwfgwf...\n",
      "  writing package sim_1_3.gwfgwf...\n",
      "  writing package sim_2_3.gwfgwf...\n",
      "  writing package sim_2_7.gwfgwf...\n",
      "  writing package sim_4_5.gwfgwf...\n",
      "  writing package sim_4_6.gwfgwf...\n",
      "  writing package sim_5_6.gwfgwf...\n",
      "  writing package sim_5_7.gwfgwf...\n",
      "  writing package sim_6_7.gwfgwf...\n",
      "  writing package sim.hpc...\n",
      "  writing model model_0...\n",
      "    writing model name file...\n",
      "    writing package dis...\n",
      "    writing package ic...\n",
      "    writing package npf...\n",
      "    writing package rcha_0...\n",
      "    writing package river...\n",
      "    writing package gwd...\n",
      "    writing package oc...\n",
      "  writing model model_1...\n",
      "    writing model name file...\n",
      "    writing package dis...\n",
      "    writing package ic...\n",
      "    writing package npf...\n",
      "    writing package rcha_0...\n",
      "    writing package river...\n",
      "    writing package gwd...\n",
      "    writing package oc...\n",
      "  writing model model_2...\n",
      "    writing model name file...\n",
      "    writing package dis...\n",
      "    writing package ic...\n",
      "    writing package npf...\n",
      "    writing package rcha_0...\n",
      "    writing package river...\n",
      "    writing package gwd...\n",
      "    writing package oc...\n",
      "  writing model model_3...\n",
      "    writing model name file...\n",
      "    writing package dis...\n",
      "    writing package ic...\n",
      "    writing package npf...\n",
      "    writing package rcha_0...\n",
      "    writing package river...\n",
      "    writing package gwd...\n",
      "    writing package oc...\n",
      "  writing model model_4...\n",
      "    writing model name file...\n",
      "    writing package dis...\n",
      "    writing package ic...\n",
      "    writing package npf...\n",
      "    writing package rcha_0...\n",
      "    writing package river...\n",
      "    writing package gwd...\n",
      "    writing package oc...\n",
      "  writing model model_5...\n",
      "    writing model name file...\n",
      "    writing package dis...\n",
      "    writing package ic...\n",
      "    writing package npf...\n",
      "    writing package rcha_0...\n",
      "    writing package river...\n",
      "    writing package gwd...\n",
      "    writing package oc...\n",
      "  writing model model_6...\n",
      "    writing model name file...\n",
      "    writing package dis...\n",
      "    writing package ic...\n",
      "    writing package npf...\n",
      "    writing package rcha_0...\n",
      "    writing package river...\n",
      "    writing package gwd...\n",
      "    writing package oc...\n",
      "  writing model model_7...\n",
      "    writing model name file...\n",
      "    writing package dis...\n",
      "    writing package ic...\n",
      "    writing package npf...\n",
      "    writing package rcha_0...\n",
      "    writing package river...\n",
      "    writing package gwd...\n",
      "    writing package oc...\n"
     ]
    }
   ],
   "source": [
    "\n",
    "parallel_sim.set_sim_path(parallel_dir)\n",
    "parallel_sim.write_simulation()\n",
    "mfsplit.save_node_mapping(parallel_dir / \"mfsplit_node_mapping.json\")"
   ]
  },
  {
   "cell_type": "code",
   "execution_count": 17,
   "metadata": {},
   "outputs": [
    {
     "data": {
      "image/png": "[encoded data removed]",
      "text/plain": [
       "<Figure size 708.661x389.764 with 8 Axes>"
      ]
     },
     "metadata": {},
     "output_type": "display_data"
    }
   ],
   "source": [
    "fig = plt.figure(figsize=(figwidth, 0.55*figheight))\n",
    "\n",
    "for i,m in enumerate(parallel_sim.model_names):\n",
    "  ax = fig.add_subplot(1,nr_domains,i+1)\n",
    "  pmv = flopy.plot.PlotMapView(models[i])\n",
    "  idomain = models[i].modelgrid.idomain\n",
    "  pmv.plot_array(idomain[0], vmax=2)\n",
    "  \n",
    "  ax.set_xticklabels([])\n",
    "  ax.set_yticklabels([])\n",
    "\n"
   ]
  },
  {
   "cell_type": "code",
   "execution_count": 18,
   "metadata": {},
   "outputs": [
    {
     "name": "stdout",
     "output_type": "stream",
     "text": [
      "Nr. of active cells in model_0: 1300\n",
      "Nr. of active cells in model_1: 1300\n",
      "Nr. of active cells in model_2: 1300\n",
      "Nr. of active cells in model_3: 1305\n",
      "Nr. of active cells in model_4: 1300\n",
      "Nr. of active cells in model_5: 1305\n",
      "Nr. of active cells in model_6: 1300\n",
      "Nr. of active cells in model_7: 1305\n"
     ]
    }
   ],
   "source": [
    "for m in models:\n",
    "  idomain = m.modelgrid.idomain\n",
    "  print(f\"Nr. of active cells in {m.name}:\", np.count_nonzero(idomain))\n",
    "  "
   ]
  },
  {
   "cell_type": "code",
   "execution_count": null,
   "metadata": {},
   "outputs": [],
   "source": []
  }
 ],
 "metadata": {
  "kernelspec": {
   "display_name": "modflow6",
   "language": "python",
   "name": "python3"
  },
  "language_info": {
   "codemirror_mode": {
    "name": "ipython",
    "version": 3
   },
   "file_extension": ".py",
   "mimetype": "text/x-python",
   "name": "python",
   "nbconvert_exporter": "python",
   "pygments_lexer": "ipython3",
   "version": "3.12.3"
  }
 },
 "nbformat": 4,
 "nbformat_minor": 2
}
